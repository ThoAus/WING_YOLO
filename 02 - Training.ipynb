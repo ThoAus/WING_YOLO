{
 "cells": [
  {
   "cell_type": "code",
   "execution_count": 1,
   "id": "e944b476",
   "metadata": {},
   "outputs": [],
   "source": [
    "from ultralytics import YOLO"
   ]
  },
  {
   "cell_type": "code",
   "execution_count": null,
   "id": "fd8f55b4",
   "metadata": {},
   "outputs": [],
   "source": [
    "# Load the YOLO model as a starting point\n",
    "model = YOLO(\"yolo11m-seg.pt\")"
   ]
  },
  {
   "cell_type": "code",
   "execution_count": null,
   "id": "17549aa9",
   "metadata": {},
   "outputs": [],
   "source": [
    "# Train the model on the dataset\n",
    "results = model.train(data=\"config.yaml\", epochs=100)"
   ]
  },
  {
   "cell_type": "markdown",
   "id": "ffe06a39",
   "metadata": {},
   "source": [
    "# 02 - Use model"
   ]
  },
  {
   "cell_type": "code",
   "execution_count": 3,
   "id": "26250d48",
   "metadata": {},
   "outputs": [],
   "source": [
    "# Load the best model from training\n",
    "best_model = YOLO(\"runs/segment/20250422_0140/weights/best.pt\")"
   ]
  },
  {
   "cell_type": "code",
   "execution_count": 5,
   "id": "fcb6ba22",
   "metadata": {},
   "outputs": [
    {
     "name": "stdout",
     "output_type": "stream",
     "text": [
      "\n"
     ]
    },
    {
     "name": "stdout",
     "output_type": "stream",
     "text": [
      "image 1/1 c:\\Users\\thoma\\Documents\\GitHub\\WING_YOLO\\test_image_5.jpg: 352x640 2 Solars, 20 Roofs, 7 Pools, 262.1ms\n",
      "Speed: 2.7ms preprocess, 262.1ms inference, 16.5ms postprocess per image at shape (1, 3, 352, 640)\n",
      "Results saved to \u001b[1mruns\\segment\\predict3\u001b[0m\n"
     ]
    }
   ],
   "source": [
    "# inference on an image\n",
    "results = best_model.predict(\n",
    "    source=\"test_image_5.jpg\",\n",
    "    save=True,\n",
    "    #show_boxes=False,\n",
    "    )"
   ]
  },
  {
   "cell_type": "code",
   "execution_count": null,
   "id": "668ec687",
   "metadata": {},
   "outputs": [],
   "source": []
  },
  {
   "cell_type": "code",
   "execution_count": null,
   "id": "c54c7d6d",
   "metadata": {},
   "outputs": [],
   "source": []
  },
  {
   "cell_type": "code",
   "execution_count": null,
   "id": "297b4be3",
   "metadata": {},
   "outputs": [],
   "source": []
  },
  {
   "cell_type": "code",
   "execution_count": null,
   "id": "1a5f27b2",
   "metadata": {},
   "outputs": [],
   "source": [
    "# export the model as ONNX\n",
    "best_model.export(format=\"onnx\", dynamic=True)"
   ]
  },
  {
   "cell_type": "code",
   "execution_count": null,
   "id": "cdb32c82",
   "metadata": {},
   "outputs": [],
   "source": []
  }
 ],
 "metadata": {
  "kernelspec": {
   "display_name": ".venv",
   "language": "python",
   "name": "python3"
  },
  "language_info": {
   "codemirror_mode": {
    "name": "ipython",
    "version": 3
   },
   "file_extension": ".py",
   "mimetype": "text/x-python",
   "name": "python",
   "nbconvert_exporter": "python",
   "pygments_lexer": "ipython3",
   "version": "3.12.4"
  }
 },
 "nbformat": 4,
 "nbformat_minor": 5
}
