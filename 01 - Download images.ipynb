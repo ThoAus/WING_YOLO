{
 "cells": [
  {
   "cell_type": "markdown",
   "id": "d98241b8",
   "metadata": {},
   "source": [
    "# 00 - Preparations"
   ]
  },
  {
   "cell_type": "code",
   "execution_count": null,
   "id": "49509f1b",
   "metadata": {},
   "outputs": [],
   "source": [
    "from owslib.wms import WebMapService\n",
    "from types import SimpleNamespace\n",
    "from pathlib import Path\n",
    "from tqdm import tqdm"
   ]
  },
  {
   "cell_type": "code",
   "execution_count": null,
   "id": "4ec17249",
   "metadata": {},
   "outputs": [],
   "source": [
    "CFG = SimpleNamespace()\n",
    "CFG.WMS_URL = 'http://geoservices.buergernetz.bz.it/mapproxy/root/ows?'"
   ]
  },
  {
   "cell_type": "markdown",
   "id": "0488f74a",
   "metadata": {},
   "source": [
    "# 01 - Explore WMS service (only for testing)"
   ]
  },
  {
   "cell_type": "markdown",
   "id": "12ed1dbf",
   "metadata": {},
   "source": [
    "https://owslib.readthedocs.io/en/latest/usage.html#"
   ]
  },
  {
   "cell_type": "markdown",
   "id": "b0f11c8c",
   "metadata": {},
   "source": [
    "### Find out what a WMS has to offer (service metadata)"
   ]
  },
  {
   "cell_type": "code",
   "execution_count": null,
   "id": "aa9363d8",
   "metadata": {},
   "outputs": [],
   "source": [
    "wms = WebMapService(CFG.WMS_URL)\n",
    "wms.identification.type"
   ]
  },
  {
   "cell_type": "code",
   "execution_count": null,
   "id": "010ef19b",
   "metadata": {},
   "outputs": [],
   "source": [
    "wms.identification.version"
   ]
  },
  {
   "cell_type": "code",
   "execution_count": null,
   "id": "ccfc316b",
   "metadata": {},
   "outputs": [],
   "source": [
    "wms.identification.title"
   ]
  },
  {
   "cell_type": "code",
   "execution_count": null,
   "id": "8ed6b7dd",
   "metadata": {},
   "outputs": [],
   "source": [
    "wms.identification.abstract"
   ]
  },
  {
   "cell_type": "markdown",
   "id": "6317e4dd",
   "metadata": {},
   "source": [
    "### Available layers"
   ]
  },
  {
   "cell_type": "code",
   "execution_count": null,
   "id": "5252bde6",
   "metadata": {},
   "outputs": [],
   "source": [
    "list(wms.contents)"
   ]
  },
  {
   "cell_type": "code",
   "execution_count": null,
   "id": "8ffa988d",
   "metadata": {},
   "outputs": [],
   "source": [
    "# Select the layer for future use\n",
    "CFG.LAYER_NAME = 'p_bz-Orthoimagery:Aerial-2023-RGB'"
   ]
  },
  {
   "cell_type": "markdown",
   "id": "f84d4498",
   "metadata": {},
   "source": [
    "### Details of a layer"
   ]
  },
  {
   "cell_type": "code",
   "execution_count": null,
   "id": "3d1e411b",
   "metadata": {},
   "outputs": [],
   "source": [
    "wms[CFG.LAYER_NAME].title"
   ]
  },
  {
   "cell_type": "code",
   "execution_count": null,
   "id": "21c3ddea",
   "metadata": {},
   "outputs": [],
   "source": [
    "wms[CFG.LAYER_NAME].queryable"
   ]
  },
  {
   "cell_type": "code",
   "execution_count": null,
   "id": "53fd42f5",
   "metadata": {},
   "outputs": [],
   "source": [
    "wms[CFG.LAYER_NAME].opaque"
   ]
  },
  {
   "cell_type": "code",
   "execution_count": null,
   "id": "268a1f05",
   "metadata": {},
   "outputs": [],
   "source": [
    "wms[CFG.LAYER_NAME].boundingBox"
   ]
  },
  {
   "cell_type": "code",
   "execution_count": null,
   "id": "c9b18350",
   "metadata": {},
   "outputs": [],
   "source": [
    "wms[CFG.LAYER_NAME].boundingBoxWGS84"
   ]
  },
  {
   "cell_type": "code",
   "execution_count": null,
   "id": "f388bfed",
   "metadata": {},
   "outputs": [],
   "source": [
    "wms[CFG.LAYER_NAME].crsOptions"
   ]
  },
  {
   "cell_type": "code",
   "execution_count": null,
   "id": "a1b94b10",
   "metadata": {},
   "outputs": [],
   "source": [
    "wms[CFG.LAYER_NAME].styles"
   ]
  },
  {
   "cell_type": "markdown",
   "id": "daa4ce4a",
   "metadata": {},
   "source": [
    "### Available methods, their URLs, and available formats"
   ]
  },
  {
   "cell_type": "code",
   "execution_count": null,
   "id": "c44d5169",
   "metadata": {},
   "outputs": [],
   "source": [
    "[op.name for op in wms.operations]"
   ]
  },
  {
   "cell_type": "code",
   "execution_count": null,
   "id": "3f2cc108",
   "metadata": {},
   "outputs": [],
   "source": [
    "wms.getOperationByName('GetMap').methods"
   ]
  },
  {
   "cell_type": "code",
   "execution_count": null,
   "id": "a7240ddb",
   "metadata": {},
   "outputs": [],
   "source": [
    "wms.getOperationByName('GetMap').formatOptions"
   ]
  },
  {
   "cell_type": "markdown",
   "id": "5b59234c",
   "metadata": {},
   "source": [
    "### Make a request for imagery"
   ]
  },
  {
   "cell_type": "code",
   "execution_count": null,
   "id": "000022fa",
   "metadata": {},
   "outputs": [],
   "source": [
    "img = wms.getmap(\n",
    "    layers=[CFG.LAYER_NAME],\n",
    "    #styles=['visual_bright'],\n",
    "    srs='EPSG:3857', # Web Mercator\n",
    "    bbox=(1242657, 5878915, 1242757, 5879015),\n",
    "    size=(640, 640),\n",
    "    format='image/jpeg',\n",
    "    transparent=True,\n",
    "    )\n",
    "\n",
    "out = open('test_image.jpg', 'wb')\n",
    "out.write(img.read())\n",
    "out.close()"
   ]
  },
  {
   "cell_type": "markdown",
   "id": "0afb0334",
   "metadata": {},
   "source": [
    "# 02 - Download images from WMS"
   ]
  },
  {
   "cell_type": "markdown",
   "id": "dbdd46d7",
   "metadata": {},
   "source": [
    "## Function to load images from WMS"
   ]
  },
  {
   "cell_type": "code",
   "execution_count": null,
   "id": "5a9999db",
   "metadata": {},
   "outputs": [],
   "source": [
    "def load_and_save_images_from_wms(\n",
    "        url: str,\n",
    "        layer_name: str,\n",
    "        coords_center: tuple,\n",
    "        img_size: tuple,\n",
    "        resolution: float,\n",
    "        path: Path,\n",
    "        filename: str,\n",
    "        ):\n",
    "    \"\"\"\n",
    "    Load and save images from a WMS server based on given coordinates and resolution.\n",
    "    Parameters:\n",
    "    url (str): The WMS server URL.\n",
    "    coords_center (tuple): The x and y coordinates of the center point.\n",
    "    img_size (tuple): The size of the image (width, height) in pixels.\n",
    "    resolution (float): The resolution in meters per pixel.\n",
    "    \"\"\"\n",
    "\n",
    "    wms = WebMapService(url)\n",
    "\n",
    "    x_min = coords_center[0] - (img_size[0] * resolution) / 2\n",
    "    x_max = coords_center[0] + (img_size[0] * resolution) / 2\n",
    "    y_min = coords_center[1] - (img_size[1] * resolution) / 2\n",
    "    y_max = coords_center[1] + (img_size[1] * resolution) / 2\n",
    "\n",
    "    img = wms.getmap(\n",
    "        layers=[layer_name],\n",
    "        srs='EPSG:3857', # Web Mercator\n",
    "        bbox=(x_min, y_min, x_max, y_max),\n",
    "        size=img_size,\n",
    "        format='image/jpeg',\n",
    "        transparent=True,\n",
    "        )\n",
    "\n",
    "    out = open(path / f'{filename}.jpg', 'wb')\n",
    "    out.write(img.read())\n",
    "    out.close()"
   ]
  },
  {
   "cell_type": "code",
   "execution_count": null,
   "id": "6974b297",
   "metadata": {},
   "outputs": [],
   "source": [
    "CFG.LAYER_NAME = 'p_bz-Orthoimagery:Aerial-2023-RGB'\n",
    "CFG.IMG_SIZE = (640, 640)\n",
    "CFG.RESOLUTION = 0.2\n",
    "CFG.PATH = Path().cwd() / 'raw_images_640x640'"
   ]
  },
  {
   "cell_type": "code",
   "execution_count": null,
   "id": "79be9c5f",
   "metadata": {},
   "outputs": [],
   "source": [
    "load_and_save_images_from_wms(\n",
    "    url=CFG.WMS_URL,\n",
    "    layer_name=CFG.LAYER_NAME,\n",
    "    coords_center=(1242660, 5878955),\n",
    "    img_size=CFG.IMG_SIZE,\n",
    "    resolution=CFG.RESOLUTION,\n",
    "    path=CFG.PATH,\n",
    "    filename='0',\n",
    "    )"
   ]
  },
  {
   "cell_type": "markdown",
   "id": "3993f266",
   "metadata": {},
   "source": [
    "### Download the images in a specified grid"
   ]
  },
  {
   "cell_type": "code",
   "execution_count": null,
   "id": "9aa1814f",
   "metadata": {},
   "outputs": [],
   "source": [
    "# Set the raster size and center\n",
    "CFG.RASTER_CENTER = (1173975, 5891150)\n",
    "CFG.RASTER_SIZE = (3, 3)\n",
    "\n",
    "x_step = CFG.IMG_SIZE[0] * CFG.RESOLUTION\n",
    "y_step = CFG.IMG_SIZE[1] * CFG.RESOLUTION\n",
    "\n",
    "for col_x in tqdm(range(CFG.RASTER_SIZE[0]), desc='Column'):\n",
    "    for row_y in range(CFG.RASTER_SIZE[1]):\n",
    "\n",
    "        # Calculate the coordinates for the center of the image\n",
    "        coords_center = (\n",
    "            CFG.RASTER_CENTER[0] + col_x * x_step,\n",
    "            CFG.RASTER_CENTER[1] + row_y * y_step,\n",
    "        )\n",
    "\n",
    "        # Load and save the image\n",
    "        filename = f'{int(coords_center[0])}_{int(coords_center[1])}'\n",
    "        load_and_save_images_from_wms(\n",
    "            url=CFG.WMS_URL,\n",
    "            layer_name=CFG.LAYER_NAME,\n",
    "            coords_center=coords_center,\n",
    "            img_size=CFG.IMG_SIZE,\n",
    "            resolution=CFG.RESOLUTION,\n",
    "            path=CFG.PATH,\n",
    "            filename=filename,\n",
    "            )\n",
    "\n",
    "CFG"
   ]
  },
  {
   "cell_type": "markdown",
   "id": "f639360a",
   "metadata": {},
   "source": [
    "# 03 - Notes"
   ]
  },
  {
   "cell_type": "markdown",
   "id": "f9513177",
   "metadata": {},
   "source": [
    "### Loaded images\n",
    "\n",
    "- p_bz-Orthoimagery:Aerial-2023-RGB\n",
    "    - Lana, Boznerstraße - CFG.RASTER_CENTER = (1242660, 5878955), CFG.RASTER_SIZE = (5, 5)\n",
    "    - Gargazon, Gemeindeplatz - RASTER_CENTER = (1247000, 5874540), RASTER_SIZE = (5, 5)\n",
    "    - Eppan, Montigglerstraße - RASTER_CENTER = (1254790, 5852700), RASTER_SIZE = (5, 5)\n",
    "    - Niederolang, Oberrain - RASTER_CENTER = (1338270, 5903870), RASTER_SIZE = (5, 5)\n",
    "    - Mals, Bahnhofstraße - RASTER_CENTER = (1173975, 5891150), RASTER_SIZE = (5, 5)"
   ]
  }
 ],
 "metadata": {
  "kernelspec": {
   "display_name": ".venv",
   "language": "python",
   "name": "python3"
  },
  "language_info": {
   "codemirror_mode": {
    "name": "ipython",
    "version": 3
   },
   "file_extension": ".py",
   "mimetype": "text/x-python",
   "name": "python",
   "nbconvert_exporter": "python",
   "pygments_lexer": "ipython3",
   "version": "3.12.4"
  }
 },
 "nbformat": 4,
 "nbformat_minor": 5
}
